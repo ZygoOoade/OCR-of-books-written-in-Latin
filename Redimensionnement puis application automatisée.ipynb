{
  "nbformat": 4,
  "nbformat_minor": 0,
  "metadata": {
    "colab": {
      "provenance": []
    },
    "kernelspec": {
      "name": "python3",
      "display_name": "Python 3"
    },
    "language_info": {
      "name": "python"
    }
  },
  "cells": [
    {
      "cell_type": "code",
      "execution_count": 3,
      "metadata": {
        "colab": {
          "base_uri": "https://localhost:8080/",
          "height": 1000
        },
        "id": "WwTRSZie31N4",
        "outputId": "1e2bea29-9fbb-45fa-c957-92e8fad69b38"
      },
      "outputs": [
        {
          "output_type": "display_data",
          "data": {
            "text/plain": [
              "<IPython.core.display.Javascript object>"
            ],
            "application/javascript": [
              "(async (port, path, width, height, cache, element) => {\n",
              "    if (!google.colab.kernel.accessAllowed && !cache) {\n",
              "      return;\n",
              "    }\n",
              "    element.appendChild(document.createTextNode(''));\n",
              "    const url = await google.colab.kernel.proxyPort(port, {cache});\n",
              "    const iframe = document.createElement('iframe');\n",
              "    iframe.src = new URL(path, url).toString();\n",
              "    iframe.height = height;\n",
              "    iframe.width = width;\n",
              "    iframe.style.border = 0;\n",
              "    iframe.allow = [\n",
              "        'accelerometer',\n",
              "        'autoplay',\n",
              "        'camera',\n",
              "        'clipboard-read',\n",
              "        'clipboard-write',\n",
              "        'gyroscope',\n",
              "        'magnetometer',\n",
              "        'microphone',\n",
              "        'serial',\n",
              "        'usb',\n",
              "        'xr-spatial-tracking',\n",
              "    ].join('; ');\n",
              "    element.appendChild(iframe);\n",
              "  })(8050, \"/\", \"100%\", 650, false, window.element)"
            ]
          },
          "metadata": {}
        },
        {
          "output_type": "display_data",
          "data": {
            "text/plain": [
              "<IPython.core.display.Javascript object>"
            ],
            "application/javascript": [
              "(async (port, path, width, height, cache, element) => {\n",
              "    if (!google.colab.kernel.accessAllowed && !cache) {\n",
              "      return;\n",
              "    }\n",
              "    element.appendChild(document.createTextNode(''));\n",
              "    const url = await google.colab.kernel.proxyPort(port, {cache});\n",
              "    const iframe = document.createElement('iframe');\n",
              "    iframe.src = new URL(path, url).toString();\n",
              "    iframe.height = height;\n",
              "    iframe.width = width;\n",
              "    iframe.style.border = 0;\n",
              "    iframe.allow = [\n",
              "        'accelerometer',\n",
              "        'autoplay',\n",
              "        'camera',\n",
              "        'clipboard-read',\n",
              "        'clipboard-write',\n",
              "        'gyroscope',\n",
              "        'magnetometer',\n",
              "        'microphone',\n",
              "        'serial',\n",
              "        'usb',\n",
              "        'xr-spatial-tracking',\n",
              "    ].join('; ');\n",
              "    element.appendChild(iframe);\n",
              "  })(8050, \"/\", \"100%\", 650, false, window.element)"
            ]
          },
          "metadata": {}
        }
      ],
      "source": [
        "!pip install jupyter-dash dash plotly pillow\n",
        "\n",
        "from jupyter_dash import JupyterDash\n",
        "from dash import html, dcc, Input, Output, State\n",
        "import plotly.express as px\n",
        "import plotly.graph_objects as go\n",
        "from PIL import Image\n",
        "import numpy as np\n",
        "import pandas as pd  # Import pandas to handle CSV operations\n",
        "import IPython.display as display\n",
        "\n",
        "# Load the image\n",
        "image_path = '/content/img/img.jpg'\n",
        "img = Image.open(image_path)\n",
        "img_array = np.array(img)\n",
        "height, width = img_array.shape[:2]\n",
        "\n",
        "# Convert image to Plotly image format\n",
        "fig = px.imshow(img_array)\n",
        "\n",
        "# Set initial rectangle coordinates\n",
        "initial_x0, initial_y0 = 140, 164\n",
        "initial_x1, initial_y1 = 933, 1424\n",
        "\n",
        "fig.update_layout(\n",
        "    dragmode=\"drawrect\",\n",
        "    newshape=dict(line_color=\"red\"),\n",
        "    margin=dict(l=0, r=0, t=0, b=0),\n",
        "    xaxis=dict(visible=False),\n",
        "    yaxis=dict(visible=False),\n",
        "    shapes=[go.layout.Shape(\n",
        "        type=\"rect\",\n",
        "        x0=initial_x0, y0=initial_y0,\n",
        "        x1=initial_x1, y1=initial_y1,\n",
        "        line=dict(color=\"red\")\n",
        "    )]\n",
        ")\n",
        "\n",
        "# Initialize the Dash app\n",
        "app = JupyterDash(__name__)\n",
        "\n",
        "app.layout = html.Div([\n",
        "    html.H1(\"Interactive Bounding Box Selector\"),\n",
        "    dcc.Graph(\n",
        "        id='image-graph',\n",
        "        figure=fig,\n",
        "        style={'height': '100vh', 'width': '100vw', 'margin': 'auto'},\n",
        "        config={\n",
        "            'displayModeBar': False,  # Hides the mode bar for cleaner display\n",
        "        }\n",
        "    ),\n",
        "    html.Div([\n",
        "        html.Label(\"Width\"),\n",
        "        dcc.Slider(id='width-slider', min=10, max=width, value=initial_x1 - initial_x0, step=1),\n",
        "        html.Label(\"Height\"),\n",
        "        dcc.Slider(id='height-slider', min=10, max=height, value=initial_y1 - initial_y0, step=1),\n",
        "        html.Label(\"X position\"),\n",
        "        dcc.Slider(id='x-slider', min=0, max=width, value=initial_x0, step=1),\n",
        "        html.Label(\"Y position\"),\n",
        "        dcc.Slider(id='y-slider', min=0, max=height, value=initial_y0, step=1)\n",
        "    ], style={'width': '50%', 'margin': 'auto'}),\n",
        "    html.Button(\"Validate Bounding Box\", id=\"validate-button\", n_clicks=0),\n",
        "    html.Div(id='output')\n",
        "])\n",
        "\n",
        "@app.callback(\n",
        "    Output('image-graph', 'figure'),\n",
        "    Input('width-slider', 'value'),\n",
        "    Input('height-slider', 'value'),\n",
        "    Input('x-slider', 'value'),\n",
        "    Input('y-slider', 'value')\n",
        ")\n",
        "def update_rectangle(width_value, height_value, x_value, y_value):\n",
        "    x_value = min(x_value, width - width_value)\n",
        "    y_value = min(y_value, height - height_value)\n",
        "    fig.update_layout(\n",
        "        shapes=[go.layout.Shape(\n",
        "            type=\"rect\",\n",
        "            x0=x_value, y0=y_value,\n",
        "            x1=x_value + width_value, y1=y_value + height_value,\n",
        "            line=dict(color=\"red\")\n",
        "        )]\n",
        "    )\n",
        "    return fig\n",
        "\n",
        "@app.callback(\n",
        "    Output('output', 'children'),\n",
        "    Input('validate-button', 'n_clicks'),\n",
        "    State('width-slider', 'value'),\n",
        "    State('height-slider', 'value'),\n",
        "    State('x-slider', 'value'),\n",
        "    State('y-slider', 'value')\n",
        ")\n",
        "def validate_bounding_box(n_clicks, width_value, height_value, x_value, y_value):\n",
        "    if n_clicks > 0:\n",
        "        # Calculate the bounding box coordinates\n",
        "        upper_left = (x_value, y_value)\n",
        "        upper_right = (x_value + width_value, y_value)\n",
        "        lower_left = (x_value, y_value + height_value)\n",
        "        lower_right = (x_value + width_value, y_value + height_value)\n",
        "\n",
        "        # Create a DataFrame with the coordinates\n",
        "        bounding_box_df = pd.DataFrame([\n",
        "            [upper_left[0], upper_left[1]],     # Row 1: upper-left (x, y)\n",
        "            [upper_right[0], upper_right[1]],   # Row 2: upper-right (x, y)\n",
        "            [lower_left[0], lower_left[1]],     # Row 3: lower-left (x, y)\n",
        "            [lower_right[0], lower_right[1]]    # Row 4: lower-right (x, y)\n",
        "        ])\n",
        "\n",
        "        # Save the DataFrame as a CSV file without header and index\n",
        "        csv_path = '/content/bounding_box_coordinates.csv'\n",
        "        bounding_box_df.to_csv(csv_path, index=False, header=False)\n",
        "\n",
        "        return html.Div([\n",
        "            html.H4(\"Bounding box coordinates saved to CSV.\"),\n",
        "            html.P(f\"File saved to: {csv_path}\")\n",
        "        ])\n",
        "    return \"\"\n",
        "\n",
        "# Clear any existing outputs\n",
        "display.clear_output(wait=True)\n",
        "\n",
        "# Run the app\n",
        "app.run_server(mode='inline')"
      ]
    },
    {
      "cell_type": "code",
      "source": [
        "!pip install Pillow\n",
        "!pip install pdf2image\n",
        "!apt-get install -y poppler-utils"
      ],
      "metadata": {
        "colab": {
          "base_uri": "https://localhost:8080/"
        },
        "id": "QM4Tm-_w4i37",
        "outputId": "ca10ce24-3f74-448e-9830-1a29438fe4c6"
      },
      "execution_count": 8,
      "outputs": [
        {
          "output_type": "stream",
          "name": "stdout",
          "text": [
            "Requirement already satisfied: Pillow in /usr/local/lib/python3.10/dist-packages (9.4.0)\n",
            "Requirement already satisfied: pdf2image in /usr/local/lib/python3.10/dist-packages (1.17.0)\n",
            "Requirement already satisfied: pillow in /usr/local/lib/python3.10/dist-packages (from pdf2image) (9.4.0)\n",
            "Reading package lists... Done\n",
            "Building dependency tree... Done\n",
            "Reading state information... Done\n",
            "The following NEW packages will be installed:\n",
            "  poppler-utils\n",
            "0 upgraded, 1 newly installed, 0 to remove and 45 not upgraded.\n",
            "Need to get 186 kB of archives.\n",
            "After this operation, 696 kB of additional disk space will be used.\n",
            "Get:1 http://archive.ubuntu.com/ubuntu jammy-updates/main amd64 poppler-utils amd64 22.02.0-2ubuntu0.5 [186 kB]\n",
            "Fetched 186 kB in 1s (356 kB/s)\n",
            "Selecting previously unselected package poppler-utils.\n",
            "(Reading database ... 123594 files and directories currently installed.)\n",
            "Preparing to unpack .../poppler-utils_22.02.0-2ubuntu0.5_amd64.deb ...\n",
            "Unpacking poppler-utils (22.02.0-2ubuntu0.5) ...\n",
            "Setting up poppler-utils (22.02.0-2ubuntu0.5) ...\n",
            "Processing triggers for man-db (2.10.2-1) ...\n"
          ]
        }
      ]
    },
    {
      "cell_type": "code",
      "source": [
        "import os\n",
        "from pdf2image import convert_from_path\n",
        "from pdf2image.exceptions import PDFPageCountError\n",
        "\n",
        "# Chemin du dossier contenant les PDFs\n",
        "pdf_folder = \"/content/pdf\"\n",
        "\n",
        "# Chemin du dossier de sortie pour les images JPG\n",
        "output_folder = \"/content/img\"\n",
        "\n",
        "# Créer le dossier de sortie s'il n'existe pas\n",
        "if not os.path.exists(output_folder):\n",
        "    os.makedirs(output_folder)\n",
        "\n",
        "# Parcourir tous les fichiers du dossier PDF\n",
        "for pdf_file in os.listdir(pdf_folder):\n",
        "    if pdf_file.endswith(\".pdf\"):\n",
        "        pdf_path = os.path.join(pdf_folder, pdf_file)\n",
        "\n",
        "        try:\n",
        "            # Convertir le PDF en images\n",
        "            pages = convert_from_path(pdf_path)\n",
        "\n",
        "            # Sauvegarder chaque page comme un fichier JPG\n",
        "            for i, page in enumerate(pages):\n",
        "                jpg_file = f\"{os.path.splitext(pdf_file)[0]}_page_{i+1}.jpg\"\n",
        "                jpg_path = os.path.join(output_folder, jpg_file)\n",
        "                page.save(jpg_path, \"JPEG\")\n",
        "\n",
        "            print(f\"Conversion terminée pour {pdf_file}\")\n",
        "        except PDFPageCountError:\n",
        "            print(f\"Erreur lors de la conversion de {pdf_file}: PDF non valide ou corrompu\")\n",
        "        except Exception as e:\n",
        "            print(f\"Erreur inattendue lors de la conversion de {pdf_file}: {str(e)}\")\n",
        "\n",
        "print(\"Toutes les conversions sont terminées.\")"
      ],
      "metadata": {
        "colab": {
          "base_uri": "https://localhost:8080/"
        },
        "id": "VF2njPPJ4qgi",
        "outputId": "1d113044-b9cd-4810-b16a-1e354c5b0d03"
      },
      "execution_count": 9,
      "outputs": [
        {
          "output_type": "stream",
          "name": "stdout",
          "text": [
            "Conversion terminée pour page_i.pdf\n",
            "Toutes les conversions sont terminées.\n"
          ]
        }
      ]
    },
    {
      "cell_type": "code",
      "source": [
        "import os\n",
        "import pandas as pd\n",
        "from PIL import Image\n",
        "\n",
        "# Load the CSV file\n",
        "bounding_box_path = '/content/bounding_box_coordinates.csv'\n",
        "bounding_box_df = pd.read_csv(bounding_box_path, header=None)\n",
        "\n",
        "# Extract the coordinates\n",
        "top_left_x = bounding_box_df.iloc[0, 0]\n",
        "top_left_y = bounding_box_df.iloc[0, 1]\n",
        "top_right_x = bounding_box_df.iloc[1, 0]\n",
        "top_right_y = bounding_box_df.iloc[1, 1]\n",
        "lower_left_x = bounding_box_df.iloc[2, 0]\n",
        "lower_left_y = bounding_box_df.iloc[2, 1]\n",
        "bottom_right_x = bounding_box_df.iloc[3, 0]\n",
        "bottom_right_y = bounding_box_df.iloc[3, 1]\n",
        "\n",
        "# Determine the crop box in the format (left, upper, right, lower)\n",
        "crop_box = (top_left_x, top_left_y, bottom_right_x, bottom_right_y)\n",
        "\n",
        "def crop_image(input_path, output_path, crop_box):\n",
        "    with Image.open(input_path) as img:\n",
        "        # Crop the image using the bounding box\n",
        "        cropped_img = img.crop(crop_box)\n",
        "        # Save the cropped image to the output path\n",
        "        cropped_img.save(output_path)\n",
        "\n",
        "# Set the input and output directories\n",
        "input_dir = '/content/img'\n",
        "output_dir = '/content/cropped_images'\n",
        "\n",
        "# Create the output directory if it doesn't exist\n",
        "if not os.path.exists(output_dir):\n",
        "    os.makedirs(output_dir)\n",
        "\n",
        "# Loop through all the JPG files in the input directory\n",
        "for img_file in os.listdir(input_dir):\n",
        "    if img_file.endswith('.jpg'):\n",
        "        input_path = os.path.join(input_dir, img_file)\n",
        "        output_path = os.path.join(output_dir, img_file)\n",
        "\n",
        "        # Crop the image and save the result\n",
        "        crop_image(input_path, output_path, crop_box)\n",
        "\n",
        "print(f\"Cropping complete. Cropped images are saved in {output_dir}.\")"
      ],
      "metadata": {
        "colab": {
          "base_uri": "https://localhost:8080/"
        },
        "id": "JaqTwCdO4kgC",
        "outputId": "efa9ee32-bc90-4b36-d42d-c217d0ab3bee"
      },
      "execution_count": 10,
      "outputs": [
        {
          "output_type": "stream",
          "name": "stdout",
          "text": [
            "Cropping complete. Cropped images are saved in /content/cropped_images.\n"
          ]
        }
      ]
    },
    {
      "cell_type": "code",
      "source": [
        "from google.colab import drive\n",
        "drive.mount('/content/experimentation')"
      ],
      "metadata": {
        "colab": {
          "base_uri": "https://localhost:8080/"
        },
        "id": "YZRwOJ9A-UfN",
        "outputId": "91750832-9755-4e61-9679-df356fa89e44"
      },
      "execution_count": 9,
      "outputs": [
        {
          "output_type": "stream",
          "name": "stdout",
          "text": [
            "Mounted at /content/experimentation\n"
          ]
        }
      ]
    },
    {
      "cell_type": "code",
      "source": [
        "import os\n",
        "import shutil\n",
        "\n",
        "# Source directory in Colab\n",
        "source_dir = '/content/cropped_images'\n",
        "\n",
        "# Destination directory in Google Drive\n",
        "# Change 'MyDrive/destination_folder' to your preferred path in Google Drive\n",
        "dest_dir = '/content/drive/MyDrive/here'\n",
        "\n",
        "# Create the destination directory if it doesn't exist\n",
        "os.makedirs(dest_dir, exist_ok=True)\n",
        "\n",
        "# Iterate through all files in the source directory\n",
        "for filename in os.listdir(source_dir):\n",
        "    source_file = os.path.join(source_dir, filename)\n",
        "    dest_file = os.path.join(dest_dir, filename)\n",
        "\n",
        "    # Copy each file to the destination directory\n",
        "    shutil.copy2(source_file, dest_file)\n",
        "    print(f\"Uploaded: {filename}\")\n",
        "\n",
        "print(\"All files have been uploaded to Google Drive.\")"
      ],
      "metadata": {
        "colab": {
          "base_uri": "https://localhost:8080/"
        },
        "id": "-KnCz_mR6V9D",
        "outputId": "3760ffdf-869f-45b2-d4a1-943ff4915eda"
      },
      "execution_count": 23,
      "outputs": [
        {
          "output_type": "stream",
          "name": "stdout",
          "text": [
            "Uploaded: page_i_page_1.jpg\n",
            "Uploaded: img.jpg\n",
            "Uploaded: page_i_page_2.jpg\n",
            "All files have been uploaded to Google Drive.\n"
          ]
        }
      ]
    }
  ]
}